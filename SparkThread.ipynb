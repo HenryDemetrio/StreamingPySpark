{
  "nbformat": 4,
  "nbformat_minor": 0,
  "metadata": {
    "colab": {
      "provenance": []
    },
    "kernelspec": {
      "name": "python3",
      "display_name": "Python 3"
    },
    "language_info": {
      "name": "python"
    }
  },
  "cells": [
    {
      "cell_type": "code",
      "execution_count": 1,
      "metadata": {
        "colab": {
          "base_uri": "https://localhost:8080/"
        },
        "id": "7XkY3FRJDl8t",
        "outputId": "c494bf96-962f-4f68-94e6-229f5a74735f"
      },
      "outputs": [
        {
          "output_type": "stream",
          "name": "stdout",
          "text": [
            "Collecting pyspark\n",
            "  Downloading pyspark-3.5.1.tar.gz (317.0 MB)\n",
            "\u001b[2K     \u001b[90m━━━━━━━━━━━━━━━━━━━━━━━━━━━━━━━━━━━━━━━━\u001b[0m \u001b[32m317.0/317.0 MB\u001b[0m \u001b[31m2.1 MB/s\u001b[0m eta \u001b[36m0:00:00\u001b[0m\n",
            "\u001b[?25h  Preparing metadata (setup.py) ... \u001b[?25l\u001b[?25hdone\n",
            "Requirement already satisfied: py4j==0.10.9.7 in /usr/local/lib/python3.10/dist-packages (from pyspark) (0.10.9.7)\n",
            "Building wheels for collected packages: pyspark\n",
            "  Building wheel for pyspark (setup.py) ... \u001b[?25l\u001b[?25hdone\n",
            "  Created wheel for pyspark: filename=pyspark-3.5.1-py2.py3-none-any.whl size=317488491 sha256=f58432217e1aaba4545d6b9ede0bfa9a86dabea700d0e3d2187da8382626f901\n",
            "  Stored in directory: /root/.cache/pip/wheels/80/1d/60/2c256ed38dddce2fdd93be545214a63e02fbd8d74fb0b7f3a6\n",
            "Successfully built pyspark\n",
            "Installing collected packages: pyspark\n",
            "Successfully installed pyspark-3.5.1\n"
          ]
        }
      ],
      "source": [
        "!pip install pyspark"
      ]
    },
    {
      "cell_type": "code",
      "source": [
        "from pyspark.sql import SparkSession\n",
        "from pyspark.sql.functions import col\n",
        "from threading import Thread\n",
        "import requests\n",
        "import json\n",
        "import shutil\n",
        "import os\n",
        "import time"
      ],
      "metadata": {
        "id": "yu-ydmpDDqUM"
      },
      "execution_count": 4,
      "outputs": []
    },
    {
      "cell_type": "code",
      "source": [
        "spark = SparkSession.builder.appName(\"Lab07\").getOrCreate()\n",
        "\n",
        "spark.sparkContext.setLogLevel(\"ERROR\")\n",
        "\n",
        "temp_dir = \"./tmp\"\n",
        "if os.path.exists(temp_dir):\n",
        "  shutil.rmtree(temp_dir)\n",
        "print(f\"Diretorio criado: {temp_dir}\")\n",
        "os.makedirs(temp_dir)"
      ],
      "metadata": {
        "colab": {
          "base_uri": "https://localhost:8080/"
        },
        "id": "9-o7FgaID9a9",
        "outputId": "857ae5b6-8239-4ebb-e0aa-f23c08d48217"
      },
      "execution_count": 5,
      "outputs": [
        {
          "output_type": "stream",
          "name": "stdout",
          "text": [
            "Diretorio criado: ./tmp\n"
          ]
        }
      ]
    },
    {
      "cell_type": "code",
      "source": [
        "def fetch_api_data():\n",
        "  counter = 0\n",
        "  while True:\n",
        "    try:\n",
        "      response = requests.get('https://api.coingecko.com/api/v3/simple/price?ids=bitcoin&vs_currencies=usd')\n",
        "      if response.status_code == 200:\n",
        "        data = response.json()\n",
        "        file_path = f\"{temp_dir}/data_{counter}.json\"\n",
        "        with open(file_path, \"w\") as f:\n",
        "          json.dump(data, f)\n",
        "        print(f\"Dados da API obtidos: {data}\\nSalvos em :{file_path}\")\n",
        "        counter +=1\n",
        "      else:\n",
        "        print(f\"Falha ao obter dados da API: {response.status_code}\")\n",
        "    except Exception as e:\n",
        "      print(f\"Erro ao fazer vizualizacao: {e}\")\n",
        "    time.sleep(30)"
      ],
      "metadata": {
        "id": "vc-bCXB7HcF2"
      },
      "execution_count": 6,
      "outputs": []
    },
    {
      "cell_type": "code",
      "source": [
        "print(\"iniciando thread para obtencao de dados da api...\")\n",
        "data_thread = Thread(target=fetch_api_data)\n",
        "data_thread.start()\n",
        "\n",
        "print(\"configurando leitura de dados de streaming...\")\n",
        "lines = spark.readStream.schema('bitcoin double').json(temp_dir)\n",
        "\n",
        "print(\"configurando transformacao de dados...\")\n",
        "prices = lines.select(col(\"bitcoin\").alias(\"bitcoin_prince\"))\n",
        "\n",
        "print(\"iniciando consulta de streaming...\")\n",
        "query = prices.writeStream.outputMode(\"append\").format(\"parquet\")\\\n",
        "    .option('checkpointLocation', f\"{temp_dir}/output\")\\\n",
        "    .option(\"path\", f\"{temp_dir}/output\").start()\n",
        "\n",
        "print(\"Streaming iniciando aguardando interrupcao...\")\n",
        "query.awaitTermination()"
      ],
      "metadata": {
        "colab": {
          "base_uri": "https://localhost:8080/"
        },
        "id": "GCChJvgJHlKq",
        "outputId": "acf5440e-2f6c-4c3c-9bab-a3667d7fc492"
      },
      "execution_count": null,
      "outputs": [
        {
          "output_type": "stream",
          "name": "stdout",
          "text": [
            "iniciando thread para obtencao de dados da api...\n",
            "configurando leitura de dados de streaming...\n",
            "Dados da API obtidos: {'bitcoin': {'usd': 69105}}\n",
            "Salvos em :./tmp/data_0.json\n",
            "configurando transformacao de dados...\n",
            "iniciando consulta de streaming...\n",
            "Streaming iniciando aguardando interrupcao...\n",
            "Dados da API obtidos: {'bitcoin': {'usd': 69105}}\n",
            "Salvos em :./tmp/data_1.json\n",
            "Dados da API obtidos: {'bitcoin': {'usd': 69105}}\n",
            "Salvos em :./tmp/data_2.json\n",
            "Dados da API obtidos: {'bitcoin': {'usd': 69105}}\n",
            "Salvos em :./tmp/data_3.json\n",
            "Dados da API obtidos: {'bitcoin': {'usd': 69100}}\n",
            "Salvos em :./tmp/data_4.json\n",
            "Dados da API obtidos: {'bitcoin': {'usd': 69100}}\n",
            "Salvos em :./tmp/data_5.json\n",
            "Dados da API obtidos: {'bitcoin': {'usd': 69100}}\n",
            "Salvos em :./tmp/data_6.json\n",
            "Dados da API obtidos: {'bitcoin': {'usd': 69100}}\n",
            "Salvos em :./tmp/data_7.json\n",
            "Dados da API obtidos: {'bitcoin': {'usd': 69100}}\n",
            "Salvos em :./tmp/data_8.json\n",
            "Dados da API obtidos: {'bitcoin': {'usd': 69100}}\n",
            "Salvos em :./tmp/data_9.json\n",
            "Dados da API obtidos: {'bitcoin': {'usd': 69100}}\n",
            "Salvos em :./tmp/data_10.json\n",
            "Dados da API obtidos: {'bitcoin': {'usd': 69060}}\n",
            "Salvos em :./tmp/data_11.json\n",
            "Dados da API obtidos: {'bitcoin': {'usd': 69060}}\n",
            "Salvos em :./tmp/data_12.json\n",
            "Dados da API obtidos: {'bitcoin': {'usd': 69060}}\n",
            "Salvos em :./tmp/data_13.json\n",
            "Dados da API obtidos: {'bitcoin': {'usd': 69060}}\n",
            "Salvos em :./tmp/data_14.json\n",
            "Dados da API obtidos: {'bitcoin': {'usd': 69060}}\n",
            "Salvos em :./tmp/data_15.json\n",
            "Dados da API obtidos: {'bitcoin': {'usd': 69060}}\n",
            "Salvos em :./tmp/data_16.json\n",
            "Dados da API obtidos: {'bitcoin': {'usd': 69060}}\n",
            "Salvos em :./tmp/data_17.json\n",
            "Dados da API obtidos: {'bitcoin': {'usd': 69060}}\n",
            "Salvos em :./tmp/data_18.json\n",
            "Dados da API obtidos: {'bitcoin': {'usd': 69060}}\n",
            "Salvos em :./tmp/data_19.json\n",
            "Dados da API obtidos: {'bitcoin': {'usd': 69060}}\n",
            "Salvos em :./tmp/data_20.json\n",
            "Dados da API obtidos: {'bitcoin': {'usd': 69037}}\n",
            "Salvos em :./tmp/data_21.json\n",
            "Dados da API obtidos: {'bitcoin': {'usd': 69037}}\n",
            "Salvos em :./tmp/data_22.json\n",
            "Dados da API obtidos: {'bitcoin': {'usd': 69060}}\n",
            "Salvos em :./tmp/data_23.json\n",
            "Dados da API obtidos: {'bitcoin': {'usd': 69037}}\n",
            "Salvos em :./tmp/data_24.json\n",
            "Dados da API obtidos: {'bitcoin': {'usd': 69060}}\n",
            "Salvos em :./tmp/data_25.json\n",
            "Dados da API obtidos: {'bitcoin': {'usd': 69060}}\n",
            "Salvos em :./tmp/data_26.json\n",
            "Dados da API obtidos: {'bitcoin': {'usd': 69037}}\n",
            "Salvos em :./tmp/data_27.json\n",
            "Dados da API obtidos: {'bitcoin': {'usd': 69167}}\n",
            "Salvos em :./tmp/data_28.json\n"
          ]
        }
      ]
    },
    {
      "cell_type": "code",
      "source": [],
      "metadata": {
        "id": "V3LABr3Jk1Q_"
      },
      "execution_count": null,
      "outputs": []
    }
  ]
}